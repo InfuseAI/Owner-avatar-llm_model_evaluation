{
  "cells": [
    {
      "cell_type": "markdown",
      "metadata": {
        "id": "cJTQt6Bt8edD"
      },
      "source": [
        "Google Colab Environment: T4 GPU in large RAM"
      ]
    },
    {
      "cell_type": "code",
      "execution_count": 1,
      "metadata": {
        "colab": {
          "base_uri": "https://localhost:8080/"
        },
        "id": "OrBE2atXqBIj",
        "outputId": "b9002b77-5eab-437f-ba36-c4ceab1b4d81"
      },
      "outputs": [
        {
          "name": "stdout",
          "output_type": "stream",
          "text": [
            "Git LFS initialized.\n",
            "Cloning into 'tmmluplus'...\n",
            "remote: Enumerating objects: 330, done.\u001b[K\n",
            "remote: Counting objects: 100% (326/326), done.\u001b[K\n",
            "remote: Compressing objects: 100% (326/326), done.\u001b[K\n",
            "remote: Total 330 (delta 75), reused 0 (delta 0), pack-reused 4\u001b[K\n",
            "Receiving objects: 100% (330/330), 2.71 MiB | 2.89 MiB/s, done.\n",
            "Resolving deltas: 100% (75/75), done.\n"
          ]
        }
      ],
      "source": [
        "# Download tmmluplus dataset\n",
        "\n",
        "!git lfs install\n",
        "!git clone https://huggingface.co/datasets/ikala/tmmluplus"
      ]
    },
    {
      "cell_type": "code",
      "execution_count": 2,
      "metadata": {
        "colab": {
          "base_uri": "https://localhost:8080/"
        },
        "id": "NqnVo5jHq1B6",
        "outputId": "6f8b7bf6-abd5-46fd-c2b4-3886d597e8bc"
      },
      "outputs": [
        {
          "name": "stdout",
          "output_type": "stream",
          "text": [
            "['occupational_therapy_for_psychological_disorders', 'anti_money_laundering', 'junior_social_studies', 'management_accounting', 'junior_science_exam', 'statistics_and_machine_learning', 'clinical_psychology', 'marketing_management', 'tve_chinese_language', 'junior_chinese_exam', 'logic_reasoning', 'education', 'insurance_studies', 'national_protection', 'economics', 'dentistry', 'physical_education', 'pharmacy', 'optometry', 'human_behavior', 'real_estate', 'educational_psychology', 'mechanical', 'taiwanese_hokkien', 'veterinary_pharmacology', 'advance_chemistry', 'veterinary_pathology', 'organic_chemistry', 'three_principles_of_people', 'culinary_skills', 'agriculture', 'business_management', 'accounting', 'education_(profession_level)', 'auditing', 'taxation', 'chinese_language_and_literature', 'finance_banking', 'politic_science', 'music', 'fire_science', 'administrative_law', 'junior_math_exam', 'traditional_chinese_medicine_clinical_medicine', 'general_principles_of_law', 'official_document_management', 'computer_science', 'trust_practice', 'introduction_to_law', 'macroeconomics', 'financial_analysis', 'engineering_math', 'tve_natural_sciences', 'pharmacology', 'geography_of_taiwan', 'trade', 'technical', 'junior_chemistry', 'jce_humanities', 'basic_medical_science', 'ttqav2', 'tve_design', 'linear_algebra', 'nautical_science', 'secondary_physics', 'tve_mathematics', 'physics']\n"
          ]
        }
      ],
      "source": [
        "# list the unique dataset\n",
        "\n",
        "import os\n",
        "\n",
        "file_types = ['_dev.csv', '_test.csv', '_train.csv', '_val.csv']\n",
        "\n",
        "def list_unique_files(directory):\n",
        "    unique_files = []\n",
        "    for root, dirs, files in os.walk(directory):\n",
        "        for file in files:\n",
        "            for file_type in file_types:\n",
        "                if file_type in file:\n",
        "                    file = file.replace(file_type, \"\")\n",
        "            if file not in unique_files:\n",
        "                unique_files.append(file)\n",
        "    return unique_files\n",
        "\n",
        "# 使用範例\n",
        "directory = '/content/tmmluplus/data'\n",
        "unique_files = list_unique_files(directory)\n",
        "\n",
        "print(unique_files)"
      ]
    },
    {
      "cell_type": "code",
      "execution_count": 3,
      "metadata": {
        "id": "030hPEVT0pL0"
      },
      "outputs": [],
      "source": [
        "# Add new folder and subfolder.\n",
        "\n",
        "!mkdir ./tmmluplus/data_arrange/\n",
        "!mkdir ./tmmluplus/data_arrange/dev/\n",
        "!mkdir ./tmmluplus/data_arrange/val/\n",
        "!mkdir ./tmmluplus/data_arrange/test/"
      ]
    },
    {
      "cell_type": "code",
      "execution_count": 4,
      "metadata": {
        "id": "gqXQg-vd0pJv"
      },
      "outputs": [],
      "source": [
        "# Copy the related data csv file into data_arrange folder.\n",
        "\n",
        "import shutil\n",
        "\n",
        "file_types = ['dev', 'test', 'val']\n",
        "\n",
        "for unique_file in unique_files:\n",
        "    for file_type in file_types:\n",
        "        source_path = \"./tmmluplus/data/{}_{}.csv\".format(unique_file, file_type)\n",
        "        destination_path = \"./tmmluplus/data_arrange/{}/{}_{}.csv\".format(file_type, unique_file, file_type)\n",
        "        # Copy the file\n",
        "        shutil.copy(source_path, destination_path)"
      ]
    },
    {
      "cell_type": "code",
      "execution_count": 5,
      "metadata": {
        "colab": {
          "base_uri": "https://localhost:8080/"
        },
        "id": "yz2z9OO_q08G",
        "outputId": "fc6763f2-02a1-43fd-ea47-624c491424bd"
      },
      "outputs": [
        {
          "name": "stdout",
          "output_type": "stream",
          "text": [
            "Cloning into 'llm_evaluation_tmmluplus'...\n",
            "remote: Enumerating objects: 28, done.\u001b[K\n",
            "remote: Counting objects: 100% (28/28), done.\u001b[K\n",
            "remote: Compressing objects: 100% (20/20), done.\u001b[K\n",
            "remote: Total 28 (delta 9), reused 21 (delta 6), pack-reused 0\u001b[K\n",
            "Receiving objects: 100% (28/28), 15.43 KiB | 322.00 KiB/s, done.\n",
            "Resolving deltas: 100% (9/9), done.\n"
          ]
        }
      ],
      "source": [
        "# Git clone the evaluation code\n",
        "\n",
        "!git clone https://github.com/LiuYuWei/llm_model_evaluation.git"
      ]
    },
    {
      "cell_type": "code",
      "execution_count": 6,
      "metadata": {
        "colab": {
          "base_uri": "https://localhost:8080/"
        },
        "id": "Y6x30IUPq06L",
        "outputId": "20e064a2-ecd5-4aef-f9b5-2b65796e8df4"
      },
      "outputs": [
        {
          "name": "stdout",
          "output_type": "stream",
          "text": [
            "Git LFS initialized.\n",
            "Cloning into 'Mistral-7B-v0.1'...\n",
            "remote: Enumerating objects: 87, done.\u001b[K\n",
            "remote: Counting objects: 100% (83/83), done.\u001b[K\n",
            "remote: Compressing objects: 100% (82/82), done.\u001b[K\n",
            "remote: Total 87 (delta 43), reused 0 (delta 0), pack-reused 4\u001b[K\n",
            "Unpacking objects: 100% (87/87), 473.17 KiB | 1.19 MiB/s, done.\n",
            "Filtering content: 100% (5/5), 3.46 GiB | 11.21 MiB/s, done.\n",
            "Encountered 4 file(s) that may not have been copied correctly on Windows:\n",
            "\tpytorch_model-00002-of-00002.bin\n",
            "\tmodel-00002-of-00002.safetensors\n",
            "\tmodel-00001-of-00002.safetensors\n",
            "\tpytorch_model-00001-of-00002.bin\n",
            "\n",
            "See: `git lfs help smudge` for more details.\n"
          ]
        }
      ],
      "source": [
        "# Git clone the huggingface model\n",
        "## It might cost lots of time.\n",
        "\n",
        "!git lfs install\n",
        "!git clone https://huggingface.co/mistralai/Mistral-7B-v0.1"
      ]
    },
    {
      "cell_type": "code",
      "execution_count": 7,
      "metadata": {
        "colab": {
          "base_uri": "https://localhost:8080/"
        },
        "id": "w2uXGkUoq03k",
        "outputId": "db41676f-9626-44b1-8f98-9aeb09d6b622"
      },
      "outputs": [
        {
          "name": "stdout",
          "output_type": "stream",
          "text": [
            "\u001b[?25l     \u001b[90m━━━━━━━━━━━━━━━━━━━━━━━━━━━━━━━━━━━━━━━━\u001b[0m \u001b[32m0.0/265.7 kB\u001b[0m \u001b[31m?\u001b[0m eta \u001b[36m-:--:--\u001b[0m\r\u001b[2K     \u001b[91m━━━━━━━━━━━━━━━━\u001b[0m\u001b[91m╸\u001b[0m\u001b[90m━━━━━━━━━━━━━━━━━━━━━━━\u001b[0m \u001b[32m112.6/265.7 kB\u001b[0m \u001b[31m3.2 MB/s\u001b[0m eta \u001b[36m0:00:01\u001b[0m\r\u001b[2K     \u001b[90m━━━━━━━━━━━━━━━━━━━━━━━━━━━━━━━━━━━━━━━━\u001b[0m \u001b[32m265.7/265.7 kB\u001b[0m \u001b[31m4.6 MB/s\u001b[0m eta \u001b[36m0:00:00\u001b[0m\n",
            "\u001b[?25h"
          ]
        }
      ],
      "source": [
        "# python package installation\n",
        "\n",
        "!pip install -q accelerate"
      ]
    },
    {
      "cell_type": "code",
      "execution_count": null,
      "metadata": {
        "colab": {
          "base_uri": "https://localhost:8080/"
        },
        "id": "VtKJAaVwq0yn",
        "outputId": "9940d2a6-1845-4062-ff44-ff616be74a33"
      },
      "outputs": [
        {
          "name": "stdout",
          "output_type": "stream",
          "text": [
            "Loading checkpoint shards: 100% 2/2 [00:58<00:00, 29.04s/it]\n",
            "WARNING:root:Some parameters are on the meta device device because they were offloaded to the cpu.\n",
            "2024-01-09 02:44:32.884020: E external/local_xla/xla/stream_executor/cuda/cuda_dnn.cc:9261] Unable to register cuDNN factory: Attempting to register factory for plugin cuDNN when one has already been registered\n",
            "2024-01-09 02:44:32.884110: E external/local_xla/xla/stream_executor/cuda/cuda_fft.cc:607] Unable to register cuFFT factory: Attempting to register factory for plugin cuFFT when one has already been registered\n",
            "2024-01-09 02:44:33.021838: E external/local_xla/xla/stream_executor/cuda/cuda_blas.cc:1515] Unable to register cuBLAS factory: Attempting to register factory for plugin cuBLAS when one has already been registered\n",
            "2024-01-09 02:44:35.449409: W tensorflow/compiler/tf2tensorrt/utils/py_utils.cc:38] TF-TRT Warning: Could not find TensorRT\n",
            "Average accuracy 0.229 - accounting\n"
          ]
        }
      ],
      "source": [
        "# Run the script the evaluate the dataset\n",
        "\n",
        "!python3 /content/llm_model_evaluation/evaluation_hf_testing.py \\\n",
        "    --category_type tmmluplus \\\n",
        "    --model /content/Mistral-7B-v0.1 \\\n",
        "    --data_dir \"/content/tmmluplus/data_arrange/\" \\\n",
        "    --save_dir \"/content/result\""
      ]
    },
    {
      "cell_type": "code",
      "execution_count": null,
      "metadata": {
        "id": "z0Ohwkpbq0hc"
      },
      "outputs": [],
      "source": [
        "!python /content/llm_model_evaluation/catogories_result_eval.py \\\n",
        "    --category_type \"tmmluplus\" \\\n",
        "    --model \"/content/Mistral-7B-v0.1\" \\\n",
        "    --save_dir \"/content/result/results_Mistral-7B-v0.1\""
      ]
    }
  ],
  "metadata": {
    "accelerator": "GPU",
    "colab": {
      "gpuType": "T4",
      "machine_shape": "hm",
      "provenance": []
    },
    "kernelspec": {
      "display_name": "Python 3",
      "name": "python3"
    },
    "language_info": {
      "name": "python"
    }
  },
  "nbformat": 4,
  "nbformat_minor": 0
}
